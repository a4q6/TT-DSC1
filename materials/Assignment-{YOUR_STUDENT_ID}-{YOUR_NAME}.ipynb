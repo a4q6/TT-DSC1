{
 "cells": [
  {
   "cell_type": "code",
   "execution_count": 1,
   "id": "a2949331",
   "metadata": {},
   "outputs": [],
   "source": [
    "import pandas as pd\n",
    "import numpy as np\n",
    "import datetime\n",
    "import matplotlib.pyplot as plt\n",
    "import shutil\n",
    "from pathlib import Path\n",
    "from typing import List, Union, Sequence, Iterable\n",
    "import requests\n",
    "import io\n",
    "from IPython.display import HTML, display, display_markdown"
   ]
  },
  {
   "cell_type": "markdown",
   "id": "5794a134",
   "metadata": {},
   "source": [
    "# Q1. intraday seasonality\n",
    "---"
   ]
  },
  {
   "cell_type": "markdown",
   "id": "46f22bd6",
   "metadata": {},
   "source": [
    "Let's look into the FX price data in this question.  \n",
    "Local variable `ohlc` below holds 5 years of 1 minutes OHLC price data.  \n",
    "FX price has some intraday seasonality. Let's check it with `ohlc` data.   \n",
    "\n",
    "1. Calculate average of $HLRange$(*)  on each hour (hour=0, 1, 2 ... 23), then plot it.    \n",
    "2. You will see 3 peaks in that plot. Infer the reason why they are formed and explain it in your own words.\n",
    "  \n",
    "  \n",
    "Hints:  \n",
    "- `groupby()` is usefull method to calculate stats by category.\n",
    "- `timestamp` is based on UTC timezone.  "
   ]
  },
  {
   "cell_type": "markdown",
   "id": "2f78d56c",
   "metadata": {},
   "source": [
    "(*)\n",
    "$$\n",
    "HLRange(t) := \\frac{High(t) - Low(t)}{Open(t)}\n",
    "$$"
   ]
  },
  {
   "cell_type": "code",
   "execution_count": 2,
   "id": "2f0c2ee3",
   "metadata": {},
   "outputs": [
    {
     "data": {
      "text/html": [
       "<div>\n",
       "<style scoped>\n",
       "    .dataframe tbody tr th:only-of-type {\n",
       "        vertical-align: middle;\n",
       "    }\n",
       "\n",
       "    .dataframe tbody tr th {\n",
       "        vertical-align: top;\n",
       "    }\n",
       "\n",
       "    .dataframe thead th {\n",
       "        text-align: right;\n",
       "    }\n",
       "</style>\n",
       "<table border=\"1\" class=\"dataframe\">\n",
       "  <thead>\n",
       "    <tr style=\"text-align: right;\">\n",
       "      <th></th>\n",
       "      <th>timestamp</th>\n",
       "      <th>ticker</th>\n",
       "      <th>open</th>\n",
       "      <th>high</th>\n",
       "      <th>low</th>\n",
       "      <th>close</th>\n",
       "    </tr>\n",
       "  </thead>\n",
       "  <tbody>\n",
       "    <tr>\n",
       "      <th>0</th>\n",
       "      <td>2018-01-01 22:00:00+00:00</td>\n",
       "      <td>USDJPY</td>\n",
       "      <td>112.645</td>\n",
       "      <td>112.645</td>\n",
       "      <td>112.645</td>\n",
       "      <td>112.645</td>\n",
       "    </tr>\n",
       "    <tr>\n",
       "      <th>1</th>\n",
       "      <td>2018-01-01 22:01:00+00:00</td>\n",
       "      <td>USDJPY</td>\n",
       "      <td>112.616</td>\n",
       "      <td>112.616</td>\n",
       "      <td>112.616</td>\n",
       "      <td>112.616</td>\n",
       "    </tr>\n",
       "    <tr>\n",
       "      <th>2</th>\n",
       "      <td>2018-01-01 22:02:00+00:00</td>\n",
       "      <td>USDJPY</td>\n",
       "      <td>112.634</td>\n",
       "      <td>112.634</td>\n",
       "      <td>112.634</td>\n",
       "      <td>112.634</td>\n",
       "    </tr>\n",
       "  </tbody>\n",
       "</table>\n",
       "</div>"
      ],
      "text/plain": [
       "                   timestamp  ticker     open     high      low    close\n",
       "0  2018-01-01 22:00:00+00:00  USDJPY  112.645  112.645  112.645  112.645\n",
       "1  2018-01-01 22:01:00+00:00  USDJPY  112.616  112.616  112.616  112.616\n",
       "2  2018-01-01 22:02:00+00:00  USDJPY  112.634  112.634  112.634  112.634"
      ]
     },
     "metadata": {},
     "output_type": "display_data"
    },
    {
     "data": {
      "text/plain": [
       "min      2018-01-01 22:00:00+00:00\n",
       "max      2022-12-30 21:58:00+00:00\n",
       "count                      1858574\n",
       "Name: timestamp, dtype: object"
      ]
     },
     "metadata": {},
     "output_type": "display_data"
    }
   ],
   "source": [
    "# FX-OHLC data\n",
    "ohlc = pd.read_csv(\"USDJPY.csv.gz\", compression=\"gzip\", encoding=\"utf-8\")\n",
    "\n",
    "display(\n",
    "    ohlc.head(3),\n",
    "    ohlc.timestamp.agg([\"min\", \"max\", \"count\"])\n",
    ")"
   ]
  },
  {
   "cell_type": "code",
   "execution_count": 3,
   "id": "6d32f6e2",
   "metadata": {},
   "outputs": [],
   "source": [
    "# Write your code and comments from here"
   ]
  },
  {
   "cell_type": "code",
   "execution_count": null,
   "id": "2e35b705",
   "metadata": {},
   "outputs": [],
   "source": []
  },
  {
   "cell_type": "code",
   "execution_count": null,
   "id": "b00408f5",
   "metadata": {},
   "outputs": [],
   "source": []
  },
  {
   "cell_type": "markdown",
   "id": "1e2d3f86",
   "metadata": {},
   "source": [
    "# Q2. application LLM\n",
    "---"
   ]
  },
  {
   "cell_type": "markdown",
   "id": "abfb79c9",
   "metadata": {},
   "source": [
    "Recently, ChatGPT and other large-scale language models have attracted people's attention.  \n",
    "Please think and write about your ideas for using LLMs in finacial market analysis, taking into account the content of this lecture."
   ]
  },
  {
   "cell_type": "markdown",
   "id": "d7697fcb",
   "metadata": {},
   "source": [
    "[Write down your thoughts here]"
   ]
  },
  {
   "cell_type": "code",
   "execution_count": null,
   "id": "124e2ec1",
   "metadata": {},
   "outputs": [],
   "source": []
  },
  {
   "cell_type": "code",
   "execution_count": null,
   "id": "37bfadb5",
   "metadata": {},
   "outputs": [],
   "source": []
  },
  {
   "cell_type": "markdown",
   "id": "d569cca0",
   "metadata": {},
   "source": [
    "# Q3. Free analysis (*Optional)\n",
    "---"
   ]
  },
  {
   "cell_type": "markdown",
   "id": "9047993a",
   "metadata": {},
   "source": [
    "Make your own hypothesis/question/experiment on FX OHLC and test it with the data.  Any idea is welcomed.  \n",
    "Off course you can add on your own data if necesary. \n",
    "\n",
    "Examples:\n",
    "- What is the relationship between EURUSD and USDJPY price direction, how they correlates and why?  \n",
    "\n",
    "Hints:\n",
    "- You can use other currnecy pair's data by changing argument `ticker` of `load_data()`. For available tickers, refer to https://www.histdata.com\n",
    "- This function is NOT supported in Google Colab runtime. Use your local environment. "
   ]
  },
  {
   "cell_type": "code",
   "execution_count": null,
   "id": "098445a6",
   "metadata": {},
   "outputs": [],
   "source": [
    "!pip install histdata >/dev/null"
   ]
  },
  {
   "cell_type": "code",
   "execution_count": 4,
   "id": "512903d7",
   "metadata": {},
   "outputs": [],
   "source": [
    "from histdata import download_hist_data as dl\n",
    "from histdata.api import Platform as P, TimeFrame as TF\n",
    "\n",
    "def download_data(\n",
    "    ticker: str,\n",
    "    year: int\n",
    ") -> str:\n",
    "    \"\"\"Download 1min OHLC data from histdata.com to `./data`\n",
    "    \"\"\"\n",
    "    path = dl(year=str(year), month=None, pair=ticker, platform=P.META_TRADER, time_frame=TF.ONE_MINUTE, output_directory=\"data/zip\")\n",
    "    shutil.unpack_archive(path, extract_dir=\"data/\")\n",
    "    return path\n",
    "\n",
    "def load_data(\n",
    "    ticker: str = \"USDJPY\",\n",
    "    year: Union[int, List[int]] = 2015\n",
    ") -> pd.DataFrame:\n",
    "    \"\"\"Load 1min-OHLC data. (Download from histdata if not exists.)\n",
    "    \"\"\"\n",
    "    if isinstance(year, Iterable):\n",
    "        return pd.concat([load_data(ticker=ticker, year=_year) for _year in year])\n",
    "    \n",
    "    path = f\"data/DAT_MT_{ticker.upper()}_M1_{year}.csv\"\n",
    "    if not Path(path).exists():\n",
    "        download_data(ticker=ticker, year=year)\n",
    "        \n",
    "    data = pd.read_csv(path, names=[\"date\", \"time\", \"open\", \"high\", \"low\", \"close\", \"_\"])\n",
    "    data[\"timestamp\"] = pd.to_datetime(data.date + \" \" + data.time).dt.tz_localize(\"EST\").dt.tz_convert(\"UTC\")\n",
    "    data[\"ticker\"] = ticker.upper()\n",
    "    data[\"date\"] = pd.to_datetime(data[\"date\"])\n",
    "    return data[[\"timestamp\", \"ticker\", \"open\", \"high\", \"low\", \"close\"]]"
   ]
  },
  {
   "cell_type": "code",
   "execution_count": 5,
   "id": "721475f9",
   "metadata": {},
   "outputs": [],
   "source": [
    "# [write your code and comments from here]"
   ]
  },
  {
   "cell_type": "code",
   "execution_count": null,
   "id": "2e2cd0eb",
   "metadata": {},
   "outputs": [],
   "source": []
  },
  {
   "cell_type": "code",
   "execution_count": null,
   "id": "e5541e5c",
   "metadata": {},
   "outputs": [],
   "source": []
  },
  {
   "cell_type": "markdown",
   "id": "bb17229d",
   "metadata": {},
   "source": [
    "\n",
    "---\n",
    "---"
   ]
  },
  {
   "cell_type": "markdown",
   "id": "d4824231",
   "metadata": {},
   "source": [
    "# *About Submission"
   ]
  },
  {
   "cell_type": "code",
   "execution_count": null,
   "id": "8fb4a2e3",
   "metadata": {},
   "outputs": [],
   "source": []
  },
  {
   "cell_type": "code",
   "execution_count": null,
   "id": "f28b4b5b",
   "metadata": {},
   "outputs": [],
   "source": []
  },
  {
   "cell_type": "code",
   "execution_count": null,
   "id": "12214f02",
   "metadata": {},
   "outputs": [],
   "source": []
  },
  {
   "cell_type": "code",
   "execution_count": null,
   "id": "a14211ac",
   "metadata": {},
   "outputs": [],
   "source": []
  }
 ],
 "metadata": {
  "kernelspec": {
   "display_name": "Python 3 (ipykernel)",
   "language": "python",
   "name": "python3"
  },
  "language_info": {
   "codemirror_mode": {
    "name": "ipython",
    "version": 3
   },
   "file_extension": ".py",
   "mimetype": "text/x-python",
   "name": "python",
   "nbconvert_exporter": "python",
   "pygments_lexer": "ipython3",
   "version": "3.8.6"
  }
 },
 "nbformat": 4,
 "nbformat_minor": 5
}
